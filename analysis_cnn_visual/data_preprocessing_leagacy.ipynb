{
 "cells": [
  {
   "cell_type": "code",
   "execution_count": 1,
   "metadata": {},
   "outputs": [
    {
     "data": {
      "text/plain": [
       "'\\n(4)数据处理说明\\n'"
      ]
     },
     "execution_count": 1,
     "metadata": {},
     "output_type": "execute_result"
    }
   ],
   "source": [
    "\"\"\"\n",
    "(1)代码说明\n",
    "读取原始数据，并将原始数据划分成训练集、开发集和测试集，其中训练集0.6，开发集0.2，测试集0.2\n",
    "\n",
    "对应变量名称:\n",
    "    X_train,X_dev,X_test\n",
    "    y_train,y_dev,y_test\n",
    "\n",
    "变量类型:\n",
    "    numpy.ndarray\n",
    "\n",
    "变量维度:\n",
    "    X_train,X_dev,X_test: (8844, 200, 4) (2948, 200, 4) (2948, 200, 4)\n",
    "    y_train,y_dev,y_test: (8844,) (2948,) (2948,)\n",
    "\n",
    "\"\"\"\n",
    "\n",
    "\"\"\"\n",
    "(2)原始数据 \n",
    "所在文件夹\"../data\"\n",
    "AAAAAG.txt  AATACA.txt  ACTAAA.txt  CATAAA.txt     \n",
    "AAGAAA.txt  AATAGA.txt  AGTAAA.txt  GATAAA.txt \n",
    "AATAAA.txt  AATATA.txt  ATTAAA.txt  TATAAA.txt\n",
    "negAAGAAA.txt  negAATAGA.txt  negAGTAAA.txt  negGATAAA.txt  \n",
    "negAATAAA.txt  negAATATA.txt  negATTAAA.txt  negTATAAA.txt\n",
    "negAAAAAG.txt  negAATACA.txt  negACTAAA.txt  negCATAAA.txt  \n",
    "\"\"\"\n",
    "\n",
    "\"\"\"\n",
    "(3)数据保存位置： \"../temp_data/\"\n",
    "\n",
    "\n",
    "\"\"\"\n",
    "\n",
    "\"\"\"\n",
    "(4)数据处理说明\n",
    "\"\"\""
   ]
  },
  {
   "cell_type": "code",
   "execution_count": 4,
   "metadata": {},
   "outputs": [
    {
     "name": "stdout",
     "output_type": "stream",
     "text": [
      "X: (8844, 200, 4) (2948, 200, 4) (2948, 200, 4)\n",
      "Y: (8844,) (2948,) (2948,)\n"
     ]
    }
   ],
   "source": [
    "#读取数据\n",
    "import numpy as np\n",
    "from sklearn.model_selection import train_test_split\n",
    "polys=\"AATAGA AATATA CATAAA GATAAA AGTAAA ACTAAA TATAAA AATACA AAAAAG AAGAAA ATTAAA AATAAA\".split(\" \")\n",
    "np.random.seed(22)\n",
    "\n",
    "def fetch_polyA(poly_name,file_dir='../data/'):\n",
    "    '''\n",
    "    one-hot coding and remove the polyA signal which is 6bp long\n",
    "    \n",
    "    input:\n",
    "        poly_name:polyA，如AATAAA\n",
    "        file_dir: polyA data file site\n",
    "    \n",
    "    output:\n",
    "        X:pos and neg polyA data\n",
    "        y:pos and neg polyA label\n",
    "    '''\n",
    "    \n",
    "    file_path_pos = file_dir+poly_name+'.txt'\n",
    "    file_path_neg = file_dir+'neg'+poly_name+'.txt'\n",
    "\n",
    "    base2num={\n",
    "    'A':np.array([1,0,0,0],dtype='float16'),\n",
    "    'T':np.array([0,1,0,0],dtype='float16'),\n",
    "    'C':np.array([0,0,1,0],dtype='float16'),\n",
    "    'G':np.array([0,0,0,1],dtype='float16'),\n",
    "    'a':np.array([1,0,0,0],dtype='float16'),\n",
    "    't':np.array([0,1,0,0],dtype='float16'),\n",
    "    'c':np.array([0,0,1,0],dtype='float16'),\n",
    "    'g':np.array([0,0,0,1],dtype='float16')\n",
    "    }\n",
    "    \n",
    "    \n",
    "    pdata = np.loadtxt(file_path_pos,dtype='str')\n",
    "    pdata = [seq[:100]+seq[106:] for seq in pdata]\n",
    "    pdata = [[base2num[base] for base in seq] for seq in pdata]\n",
    "                   \n",
    "    ndata = np.loadtxt(file_path_neg,dtype='str')\n",
    "    ndata = [seq[:100]+seq[106:] for seq in ndata]\n",
    "    ndata = [[base2num[base] for base in seq] for seq in ndata]\n",
    "    \n",
    "    X = np.array(pdata+ndata)\n",
    "    y = np.append(np.ones(len(pdata)),np.zeros(len(ndata)))\n",
    "    \n",
    "    return X,y\n",
    "\n",
    "def fetch_and_split_ployA(polya_name):\n",
    "    \"\"\"\n",
    "    split X,y into X_train,X_dev,X_test,y_train,y_dev,y_test without shuffle\n",
    "    \"\"\"\n",
    "    X,y = fetch_polyA(polya_name)\n",
    "    X_train,X_test,y_train,y_test = train_test_split(X,y,test_size=0.2,random_state=22,shuffle =True)\n",
    "    X_train,X_dev,y_train,y_dev = train_test_split(X_train,y_train,test_size=0.25,random_state=22)\n",
    "    return X_train,X_dev,X_test,y_train,y_dev,y_test\n",
    "\n",
    "\n",
    "\n",
    "\n",
    "def run():\n",
    "    \"\"\"\n",
    "    concatenate 12 polyA sigmal data\n",
    "    \"\"\"\n",
    "    X_train,X_dev,X_test,y_train,y_dev,y_test = [],[],[],[],[],[]\n",
    "    for index,poly in enumerate(polys):\n",
    "        X_tr,X_de,X_te,y_tr,y_de,y_te = fetch_and_split_ployA(poly)\n",
    "        if(index == 0):\n",
    "            X_train,X_dev,X_test,y_train,y_dev,y_test = X_tr,X_de,X_te,y_tr,y_de,y_te\n",
    "        else:\n",
    "            X_train = np.concatenate((X_train,X_tr),axis=0)\n",
    "            X_dev   = np.concatenate((X_dev,X_de),axis=0)\n",
    "            X_test  = np.concatenate((X_test,X_te),axis=0)\n",
    "            y_train = np.append(y_train,y_tr)\n",
    "            y_dev   = np.append(y_dev,y_de)\n",
    "            y_test  = np.append(y_test,y_te)\n",
    "    return X_train,X_dev,X_test,y_train,y_dev,y_test\n",
    "\n",
    "X_train,X_dev,X_test,y_train,y_dev,y_test = run()\n",
    "\n",
    "\n",
    "print('X:',X_train.shape,X_dev.shape,X_test.shape)\n",
    "print('Y:',y_train.shape,y_dev.shape,y_test.shape)"
   ]
  },
  {
   "cell_type": "code",
   "execution_count": 5,
   "metadata": {},
   "outputs": [
    {
     "name": "stdout",
     "output_type": "stream",
     "text": [
      "X: (8844, 200, 4) (2948, 200, 4) (2948, 200, 4)\n",
      "Y: (8844,) (2948,) (2948,)\n"
     ]
    }
   ],
   "source": [
    "# def my_shuffle(*args):\n",
    "#     for arg in args:\n",
    "#         np.random.seed(22)\n",
    "#         np.random.shuffle(arg)\n",
    "# my_shuffle(X_train,X_dev,X_test,y_train,y_dev,y_test)\n",
    "\n",
    "# def change_y(y):\n",
    "#     re = np.zeros((len(y),2))\n",
    "#     for index,value  in enumerate(y):\n",
    "#         if(value == 1):\n",
    "#             re[index] = [1,0]\n",
    "#         else:\n",
    "#             re[index] = [0,1]\n",
    "#     return re\n",
    "# y_train,y_dev,y_test = change_y(y_train),change_y(y_dev),change_y(y_test)"
   ]
  },
  {
   "cell_type": "code",
   "execution_count": 25,
   "metadata": {},
   "outputs": [
    {
     "data": {
      "text/plain": [
       "array([[0., 0., 0., ..., 0., 0., 1.],\n",
       "       [0., 1., 1., ..., 0., 0., 1.],\n",
       "       [1., 1., 1., ..., 1., 1., 1.],\n",
       "       ...,\n",
       "       [0., 0., 0., ..., 1., 0., 0.],\n",
       "       [1., 1., 1., ..., 0., 0., 1.],\n",
       "       [0., 1., 1., ..., 1., 1., 0.]])"
      ]
     },
     "execution_count": 25,
     "metadata": {},
     "output_type": "execute_result"
    }
   ],
   "source": [
    "#保存数据\n",
    "np.save(\"../temp_data/X_train.npy\",X_train)\n",
    "np.save(\"../temp_data/X_dev.npy\",  X_dev)\n",
    "np.save(\"../temp_data/X_test.npy\", X_test)\n",
    "\n",
    "np.save(\"../temp_data/y_train.npy\",y_train)\n",
    "np.save(\"../temp_data/y_dev.npy\",y_dev)\n",
    "np.save(\"../temp_data/y_test.npy\",y_test)"
   ]
  }
 ],
 "metadata": {
  "kernelspec": {
   "display_name": "Python 3",
   "language": "python",
   "name": "python3"
  },
  "language_info": {
   "codemirror_mode": {
    "name": "ipython",
    "version": 3
   },
   "file_extension": ".py",
   "mimetype": "text/x-python",
   "name": "python",
   "nbconvert_exporter": "python",
   "pygments_lexer": "ipython3",
   "version": "3.8.5"
  }
 },
 "nbformat": 4,
 "nbformat_minor": 4
}
