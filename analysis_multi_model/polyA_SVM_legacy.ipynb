{
 "cells": [
  {
   "cell_type": "code",
   "execution_count": 1,
   "metadata": {},
   "outputs": [],
   "source": [
    "import numpy as np\n",
    "import numpy as np\n",
    "from sklearn.model_selection import train_test_split\n",
    "from sklearn import metrics\n",
    "import matplotlib.pyplot as plt\n",
    "from sklearn.svm import SVC\n",
    "import time\n",
    "from sklearn.model_selection import GridSearchCV\n"
   ]
  },
  {
   "cell_type": "code",
   "execution_count": 3,
   "metadata": {},
   "outputs": [],
   "source": [
    "def follow(lines,func,func_args=dict(),concate=False):\n",
    "    if concate == True:\n",
    "        for index,line in enumerate(lines):       \n",
    "            if index == 0:\n",
    "                temp = func(line,**func_args)\n",
    "            else:\n",
    "                if isinstance(temp,list):\n",
    "                    temp.extend(func(line,**func_args))\n",
    "    else:\n",
    "        temp = [func(line,**func_args) for line in lines ]\n",
    "    return temp\n",
    "        \n",
    "            \n",
    "def readfile(filename,flag):\n",
    "    if flag=='P':\n",
    "        filename ='../data/'+filename+'.txt'\n",
    "    else:\n",
    "        filename = '../data/neg'+filename+'.txt'\n",
    "    \n",
    "    with open(filename) as f:\n",
    "        return [line.strip() for line in f.readlines()]\n",
    "\n",
    "def KmerCode(x,k):\n",
    "    category = dict()\n",
    "    base='ATCG'\n",
    "    def str_multiply(a,b):\n",
    "        return([i+j for i in a for j in b])\n",
    "\n",
    "    for i in range(k-1):\n",
    "        base = str_multiply(a='ATCG',b=base)\n",
    "\n",
    "    for i in base:\n",
    "        category[i] = 0\n",
    "\n",
    "    for i in range(len(x)-k+1):\n",
    "        category[x[i:i+k]]+=1\n",
    "    \n",
    "    \n",
    "    return list(category.values())\n",
    "\n",
    "def n_gram(x,k):\n",
    "    pass\n",
    "\n"
   ]
  },
  {
   "cell_type": "code",
   "execution_count": 5,
   "metadata": {},
   "outputs": [
    {
     "ename": "NameError",
     "evalue": "name 'X_dev' is not defined",
     "output_type": "error",
     "traceback": [
      "\u001b[0;31m---------------------------------------------------------------------------\u001b[0m",
      "\u001b[0;31mNameError\u001b[0m                                 Traceback (most recent call last)",
      "\u001b[0;32m<ipython-input-5-3bb2c087bbb9>\u001b[0m in \u001b[0;36m<module>\u001b[0;34m\u001b[0m\n\u001b[1;32m     22\u001b[0m \u001b[0mclf\u001b[0m \u001b[0;34m=\u001b[0m \u001b[0mSVC\u001b[0m\u001b[0;34m(\u001b[0m\u001b[0mC\u001b[0m\u001b[0;34m=\u001b[0m\u001b[0;36m100\u001b[0m\u001b[0;34m,\u001b[0m\u001b[0mgamma\u001b[0m\u001b[0;34m=\u001b[0m\u001b[0;36m1\u001b[0m\u001b[0;34m,\u001b[0m\u001b[0mkernel\u001b[0m\u001b[0;34m=\u001b[0m\u001b[0;34m'rbf'\u001b[0m\u001b[0;34m,\u001b[0m\u001b[0mprobability\u001b[0m\u001b[0;34m=\u001b[0m\u001b[0;32mTrue\u001b[0m\u001b[0;34m)\u001b[0m\u001b[0;34m\u001b[0m\u001b[0;34m\u001b[0m\u001b[0m\n\u001b[1;32m     23\u001b[0m \u001b[0mclf\u001b[0m\u001b[0;34m.\u001b[0m\u001b[0mfit\u001b[0m\u001b[0;34m(\u001b[0m\u001b[0mX_train\u001b[0m\u001b[0;34m,\u001b[0m\u001b[0my_train\u001b[0m\u001b[0;34m)\u001b[0m\u001b[0;34m\u001b[0m\u001b[0;34m\u001b[0m\u001b[0m\n\u001b[0;32m---> 24\u001b[0;31m \u001b[0mpred_prob\u001b[0m \u001b[0;34m=\u001b[0m \u001b[0mclf\u001b[0m\u001b[0;34m.\u001b[0m\u001b[0mpredict_proba\u001b[0m\u001b[0;34m(\u001b[0m\u001b[0mX_dev\u001b[0m\u001b[0;34m)\u001b[0m\u001b[0;34m[\u001b[0m\u001b[0;34m:\u001b[0m\u001b[0;34m,\u001b[0m\u001b[0;36m1\u001b[0m\u001b[0;34m]\u001b[0m\u001b[0;34m\u001b[0m\u001b[0;34m\u001b[0m\u001b[0m\n\u001b[0m\u001b[1;32m     25\u001b[0m \u001b[0mprint\u001b[0m\u001b[0;34m(\u001b[0m\u001b[0;34m'time:'\u001b[0m\u001b[0;34m,\u001b[0m\u001b[0mtime\u001b[0m\u001b[0;34m.\u001b[0m\u001b[0mtime\u001b[0m\u001b[0;34m(\u001b[0m\u001b[0;34m)\u001b[0m\u001b[0;34m-\u001b[0m\u001b[0mstart\u001b[0m\u001b[0;34m)\u001b[0m\u001b[0;34m\u001b[0m\u001b[0;34m\u001b[0m\u001b[0m\n",
      "\u001b[0;31mNameError\u001b[0m: name 'X_dev' is not defined"
     ]
    }
   ],
   "source": [
    "polys=\"AATAGA AATATA CATAAA GATAAA AGTAAA ACTAAA TATAAA AATACA AAAAAG AAGAAA ATTAAA AATAAA\".split(\" \")\n",
    "#load data\n",
    "X = follow(polys,readfile,func_args={'flag':'P'},concate=True)+\\\n",
    "    follow(polys,readfile,func_args={'flag':'N'},concate=True)\n",
    "y = [1]*(len(X)//2)+[0]*(len(X)//2)\n",
    "\n",
    "#remove polyA signal\n",
    "X = [x[:100]+x[106:] for x in X]\n",
    "\n",
    "#kmer encode\n",
    "X = follow(X, KmerCode, func_args = {'k':3})\n",
    "\n",
    "#归一化,使得所有数据在0~1之间\n",
    "X = np.array(X)/16\n",
    "\n",
    "#划分数据集\n",
    "from sklearn.model_selection import train_test_split\n",
    "X_train,X_test,y_train,y_test = train_test_split(X,y,test_size=0.2,random_state=22)\n",
    "\n",
    "#训练数据\n",
    "start = time.time()\n",
    "clf = SVC(C=100,gamma=1,kernel='rbf',probability=True)\n",
    "clf.fit(X_train,y_train)\n",
    "pred_prob = clf.predict_proba(X_dev)[:,1]\n",
    "print('time:',time.time()-start)"
   ]
  },
  {
   "cell_type": "code",
   "execution_count": null,
   "metadata": {},
   "outputs": [],
   "source": []
  }
 ],
 "metadata": {
  "kernelspec": {
   "display_name": "Python 3",
   "language": "python",
   "name": "python3"
  },
  "language_info": {
   "codemirror_mode": {
    "name": "ipython",
    "version": 3
   },
   "file_extension": ".py",
   "mimetype": "text/x-python",
   "name": "python",
   "nbconvert_exporter": "python",
   "pygments_lexer": "ipython3",
   "version": "3.8.5"
  }
 },
 "nbformat": 4,
 "nbformat_minor": 4
}
