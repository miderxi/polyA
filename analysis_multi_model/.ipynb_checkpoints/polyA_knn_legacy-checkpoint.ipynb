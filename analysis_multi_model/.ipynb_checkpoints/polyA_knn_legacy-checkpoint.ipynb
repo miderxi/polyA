{
 "cells": [
  {
   "cell_type": "code",
   "execution_count": 2,
   "metadata": {},
   "outputs": [
    {
     "data": {
      "text/plain": [
       "{'accuracy': 0.644,\n",
       " 'precision': 0.681,\n",
       " 'recall': 0.55,\n",
       " 'f1': 0.609,\n",
       " 'auc': 0.692}"
      ]
     },
     "execution_count": 2,
     "metadata": {},
     "output_type": "execute_result"
    },
    {
     "data": {
      "image/png": "[encoded data removed]",
      "text/plain": [
       "<Figure size 432x288 with 1 Axes>"
      ]
     },
     "metadata": {
      "needs_background": "light"
     },
     "output_type": "display_data"
    }
   ],
   "source": [
    "import numpy as np\n",
    "from sklearn import metrics\n",
    "import matplotlib.pyplot as plt\n",
    "import time\n",
    "def knn_load_data(poly_name,file_dir='../data/'):\n",
    "    file_path_pos = file_dir+poly_name+'.txt'\n",
    "    file_path_neg = file_dir+'neg'+poly_name+'.txt'\n",
    "    base2num={\n",
    "    'A':0,'T':1,'C':2,'G':3,\n",
    "    'a':0,'t':1,'c':2,'g':3\n",
    "    }\n",
    "    \n",
    "    pdata = np.loadtxt(file_path_pos,dtype='str')\n",
    "    pdata = [seq[:100]+seq[106:] for seq in pdata]\n",
    "    pdata = [[base2num[base] for base in seq] for seq in pdata]\n",
    "                   \n",
    "    ndata = np.loadtxt(file_path_neg,dtype='str')\n",
    "    ndata = [seq[:100]+seq[106:] for seq in ndata]\n",
    "    ndata = [[base2num[base] for base in seq] for seq in ndata]\n",
    "    \n",
    "    X = np.array(pdata+ndata)\n",
    "    y = np.append(np.ones(len(pdata)),np.zeros(len(ndata)))\n",
    "    \n",
    "    return X,y\n",
    "\n",
    "def model_assess(y_true,y_prob,roc=True,pr=False,poly_name=None,line_name=None):\n",
    "    '''\n",
    "    pass\n",
    "    '''\n",
    "    re={}\n",
    "    y_true = np.array(y_true,dtype=int)\n",
    "    y_pred = np.array(y_prob+0.5,dtype=int)\n",
    "    \n",
    "    re['accuracy'] = round(metrics.accuracy_score  (y_true,y_pred),3)\n",
    "    re['precision'] = round(metrics.precision_score(y_true,y_pred),3)\n",
    "    re['recall'] = round(metrics.recall_score      (y_true,y_pred),3)\n",
    "    re['f1'] =  round(metrics.f1_score             (y_true,y_pred),3)\n",
    "    re['auc'] = round(metrics.roc_auc_score        (y_true, y_prob),3)\n",
    "    \n",
    "    \n",
    "    fpr,tpr,thresholds = metrics.roc_curve(y_true,y_prob)\n",
    "    plt.plot(fpr,tpr,label= 'knn:'+str(re['auc']))\n",
    "    plt.title('ROC curve')\n",
    "    plt.xlabel('fpr')\n",
    "    plt.ylabel('tpr')\n",
    "    \n",
    "    #precision, recall, thresholds = metrics.precision_recall_curve(y_true,y_prob)\n",
    "    #plt.plot(precision,recall,label='precison_and_recall')\n",
    "    plt.legend()\n",
    "    \n",
    "    return re\n",
    "\n",
    "#load all data\n",
    "polys=\"AATAGA AATATA CATAAA GATAAA AGTAAA ACTAAA TATAAA AATACA AAAAAG AAGAAA ATTAAA AATAAA\".split(\" \")\n",
    "X,y=[],[]\n",
    "for index,poly in enumerate(polys):\n",
    "    X_sub,y_sub = knn_load_data(poly)\n",
    "    if(index == 0):\n",
    "        X,y = X_sub,y_sub\n",
    "    else:\n",
    "        X,y = np.concatenate((X,X_sub)),np.concatenate((y,y_sub))\n",
    "        \n",
    "from sklearn.model_selection import train_test_split\n",
    "X_train,X_test,y_train,y_test = train_test_split(X,y,test_size=0.2,random_state=22)\n",
    "\n",
    "for index,poly in enumerate(polys):\n",
    "        pass\n",
    "\n",
    "from sklearn import neighbors\n",
    "n_neighbors=2\n",
    "weights='uniform'\n",
    "weights='distance'\n",
    "clf = neighbors.KNeighborsClassifier(n_neighbors=n_neighbors,weights=weights)\n",
    "clf.fit(X_train,y_train)\n",
    "pred_prob = clf.predict_proba(X_test)[:,1]\n",
    "model_assess(y_test,pred_prob)"
   ]
  }
 ],
 "metadata": {
  "kernelspec": {
   "display_name": "Python 3",
   "language": "python",
   "name": "python3"
  },
  "language_info": {
   "codemirror_mode": {
    "name": "ipython",
    "version": 3
   },
   "file_extension": ".py",
   "mimetype": "text/x-python",
   "name": "python",
   "nbconvert_exporter": "python",
   "pygments_lexer": "ipython3",
   "version": "3.8.5"
  }
 },
 "nbformat": 4,
 "nbformat_minor": 4
}
