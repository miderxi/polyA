{
 "cells": [
  {
   "cell_type": "markdown",
   "metadata": {},
   "source": [
    "# 1. SVM模型\n",
    "SVM模型优化参数与特征工程 <br />\n",
    "优化参数使用网格搜索法 <br />\n",
    "特征工程主要使用kmer <br />\n",
    "(1)首先测试未使用特征工程时模型的性能 <br />\n",
    "(2)接着测试 2-kmer模型的性能 <br />\n",
    "(3)然后测试 3-kmer模型的性能"
   ]
  },
  {
   "cell_type": "markdown",
   "metadata": {},
   "source": [
    "# (1)未使用特征工程时模型的性能\n",
    "这里不适用测试数据，只使用训练数据集与开发数据集"
   ]
  },
  {
   "cell_type": "code",
   "execution_count": 89,
   "metadata": {},
   "outputs": [],
   "source": [
    "import numpy as np\n",
    "import numpy as np\n",
    "from sklearn.model_selection import train_test_split\n",
    "from sklearn import metrics\n",
    "import matplotlib.pyplot as plt\n",
    "from sklearn.svm import SVC\n",
    "import time\n",
    "from sklearn.model_selection import GridSearchCV\n"
   ]
  },
  {
   "cell_type": "code",
   "execution_count": 96,
   "metadata": {},
   "outputs": [],
   "source": [
    "def follow(lines,func,func_args=dict(),concate=False):\n",
    "    if concate == True:\n",
    "        for index,line in enumerate(lines):       \n",
    "            if index == 0:\n",
    "                temp = func(line,**func_args)\n",
    "            else:\n",
    "                if isinstance(temp,list):\n",
    "                    temp.extend(func(line,**func_args))\n",
    "    else:\n",
    "        temp = [func(line,**func_args) for line in lines ]\n",
    "    return temp\n",
    "        \n",
    "            \n",
    "def readfile(filename,flag):\n",
    "    if flag=='P':\n",
    "        filename ='../data/'+filename+'.txt'\n",
    "    else:\n",
    "        filename = '../data/neg'+filename+'.txt'\n",
    "    \n",
    "    with open(filename) as f:\n",
    "        return [line.strip() for line in f.readlines()]\n",
    "\n",
    "def KmerCode(x,k):\n",
    "    category = dict()\n",
    "    base='ATCG'\n",
    "    def str_multiply(a,b):\n",
    "        return([i+j for i in a for j in b])\n",
    "\n",
    "    for i in range(k-1):\n",
    "        base = str_multiply(a='ATCG',b=base)\n",
    "\n",
    "    for i in base:\n",
    "        category[i] = 0\n",
    "\n",
    "    for i in range(len(x)-k+1):\n",
    "        category[x[i:i+k]]+=1\n",
    "    \n",
    "    \n",
    "    return list(category.values())\n",
    "\n",
    "def n_gram(x,k):\n",
    "    pass\n",
    "\n",
    "#评价模型\n",
    "def assess(y_true,y_prob,roc=True,pr=False,poly_name=None,line_name=None):\n",
    "    '''\n",
    "    pass\n",
    "    '''\n",
    "    re={}\n",
    "    y_pred =(y_prob+0.5).astype(int)\n",
    "    \n",
    "    re['accuracy'] = round(metrics.accuracy_score  (y_true,y_pred),3)\n",
    "    re['precision'] = round(metrics.precision_score(y_true,y_pred),3)\n",
    "    re['recall'] = round(metrics.recall_score      (y_true,y_pred),3)\n",
    "    re['f1'] =  round(metrics.f1_score             (y_true,y_pred),3)\n",
    "    re['auc'] = round(metrics.roc_auc_score        (y_true, y_prob),3)\n",
    "    \n",
    "    \n",
    "    fpr,tpr,thresholds = metrics.roc_curve(y_true,y_prob)\n",
    "    plt.plot(fpr,tpr,label= 'SVM :'+str(re['auc']))\n",
    "    plt.title('ROC curve')\n",
    "    plt.xlabel('fpr')\n",
    "    plt.ylabel('tpr')\n",
    "    \n",
    "    #precision, recall, thresholds = metrics.precision_recall_curve(y_true,y_prob)\n",
    "    #plt.plot(precision,recall,label='precison_and_recall')\n",
    "    plt.legend()\n",
    "    \n",
    "    return re\n",
    "\n"
   ]
  },
  {
   "cell_type": "markdown",
   "metadata": {},
   "source": [
    "# 2-kmer"
   ]
  },
  {
   "cell_type": "code",
   "execution_count": 109,
   "metadata": {},
   "outputs": [],
   "source": [
    "#load data\n",
    "X = follow(polys,readfile,func_args={'flag':'P'},concate=True)+\\\n",
    "    follow(polys,readfile,func_args={'flag':'N'},concate=True)\n",
    "y = [1]*(len(X)//2)+[0]*(len(X)//2)\n",
    "\n",
    "#remove polyA signal\n",
    "X = [x[:100]+x[106:] for x in X]\n",
    "\n",
    "#kmer encode\n",
    "X = follow(X, KmerCode, func_args = {'k':2})\n",
    "\n",
    "#归一化,使得所有数据在0~1之间\n",
    "X = np.array(X)/16\n",
    "\n",
    "#划分数据集\n",
    "from sklearn.model_selection import train_test_split\n",
    "X_train,X_test,y_train,y_test = train_test_split(X,y,test_size=0.2,random_state=22)\n",
    "\n",
    "#训练数据\n",
    "start = time.time()\n",
    "clf = SVC(C=100,gamma=1,kernel='rbf',probability=True)\n",
    "clf.fit(X_train,y_train)\n",
    "pred_prob = clf.predict_proba(X_test)[:,1]\n",
    "print('time:',time.time()-start)\n",
    "\n",
    "assess(y_test,pred_prob)\n",
    "svm_result_2kmer=(y_test,pred_prob)"
   ]
  },
  {
   "cell_type": "code",
   "execution_count": 108,
   "metadata": {},
   "outputs": [],
   "source": []
  },
  {
   "cell_type": "markdown",
   "metadata": {},
   "source": [
    "# 3-kmer"
   ]
  },
  {
   "cell_type": "code",
   "execution_count": 100,
   "metadata": {},
   "outputs": [
    {
     "name": "stdout",
     "output_type": "stream",
     "text": [
      "time: 94.46925902366638\n"
     ]
    },
    {
     "data": {
      "image/png": "[encoded data removed]",
      "text/plain": [
       "<Figure size 432x288 with 1 Axes>"
      ]
     },
     "metadata": {
      "needs_background": "light"
     },
     "output_type": "display_data"
    }
   ],
   "source": [
    "#load data\n",
    "X = follow(polys,readfile,func_args={'flag':'P'},concate=True)+\\\n",
    "    follow(polys,readfile,func_args={'flag':'N'},concate=True)\n",
    "y = [1]*(len(X)//2)+[0]*(len(X)//2)\n",
    "\n",
    "#remove polyA signal\n",
    "X = [x[:100]+x[106:] for x in X]\n",
    "\n",
    "#kmer encode\n",
    "X = follow(X, KmerCode, func_args = {'k':3})\n",
    "\n",
    "#归一化,使得所有数据在0~1之间\n",
    "X = np.array(X)/16\n",
    "\n",
    "#划分数据集\n",
    "from sklearn.model_selection import train_test_split\n",
    "X_train,X_test,y_train,y_test = train_test_split(X,y,test_size=0.2,random_state=22)\n",
    "\n",
    "#训练数据\n",
    "start = time.time()\n",
    "clf = SVC(C=100,gamma=1,kernel='rbf',probability=True)\n",
    "clf.fit(X_train,y_train)\n",
    "pred_prob = clf.predict_proba(X_test)[:,1]\n",
    "print('time:',time.time()-start)\n",
    "\n",
    "assess(y_test,pred_prob)\n",
    "svm_result_3kmer=(y_test,pred_prob)"
   ]
  },
  {
   "cell_type": "markdown",
   "metadata": {},
   "source": [
    "# 4kmer"
   ]
  },
  {
   "cell_type": "code",
   "execution_count": 93,
   "metadata": {},
   "outputs": [
    {
     "name": "stdout",
     "output_type": "stream",
     "text": [
      "time: 349.2726616859436\n"
     ]
    }
   ],
   "source": [
    "#load data\n",
    "X = follow(polys,readfile,func_args={'flag':'P'},concate=True)+\\\n",
    "    follow(polys,readfile,func_args={'flag':'N'},concate=True)\n",
    "y = [1]*(len(X)//2)+[0]*(len(X)//2)\n",
    "\n",
    "#remove polyA signal\n",
    "X = [x[:100]+x[106:] for x in X]\n",
    "\n",
    "#kmer encode\n",
    "X = follow(X, KmerCode, func_args = {'k':4})\n",
    "\n",
    "#归一化,使得所有数据在0~1之间\n",
    "X = np.array(X)/16\n",
    "\n",
    "#划分数据集\n",
    "from sklearn.model_selection import train_test_split\n",
    "X_train,X_test,y_train,y_test = train_test_split(X,y,test_size=0.2,random_state=22)\n",
    "\n",
    "#训练数据\n",
    "start = time.time()\n",
    "clf = SVC(C=100,gamma=1,kernel='rbf',probability=True)\n",
    "clf.fit(X_train,y_train)\n",
    "pred_prob = clf.predict_proba(X_test)[:,1]\n",
    "print('time:',time.time()-start)\n",
    "\n",
    "assess(y_test,pred_prob)\n",
    "svm_result_4kmer=(y_test,pred_prob)"
   ]
  },
  {
   "cell_type": "markdown",
   "metadata": {},
   "source": [
    "# 5kmer"
   ]
  },
  {
   "cell_type": "code",
   "execution_count": 102,
   "metadata": {},
   "outputs": [
    {
     "name": "stdout",
     "output_type": "stream",
     "text": [
      "time: 772.1044592857361\n"
     ]
    },
    {
     "data": {
      "image/png": "[encoded data removed]",
      "text/plain": [
       "<Figure size 432x288 with 1 Axes>"
      ]
     },
     "metadata": {
      "needs_background": "light"
     },
     "output_type": "display_data"
    }
   ],
   "source": [
    "#load data\n",
    "X = follow(polys,readfile,func_args={'flag':'P'},concate=True)+\\\n",
    "    follow(polys,readfile,func_args={'flag':'N'},concate=True)\n",
    "y = [1]*(len(X)//2)+[0]*(len(X)//2)\n",
    "\n",
    "#remove polyA signal\n",
    "X = [x[:100]+x[106:] for x in X]\n",
    "\n",
    "#kmer encode\n",
    "X = follow(X, KmerCode, func_args = {'k':5})\n",
    "\n",
    "#归一化,使得所有数据在0~1之间\n",
    "X = np.array(X)/16\n",
    "\n",
    "#划分数据集\n",
    "from sklearn.model_selection import train_test_split\n",
    "X_train,X_test,y_train,y_test = train_test_split(X,y,test_size=0.2,random_state=22)\n",
    "\n",
    "#训练数据\n",
    "start = time.time()\n",
    "clf = SVC(C=100,gamma=1,kernel='rbf',probability=True)\n",
    "clf.fit(X_train,y_train)\n",
    "pred_prob = clf.predict_proba(X_test)[:,1]\n",
    "print('time:',time.time()-start)\n",
    "\n",
    "assess(y_test,pred_prob)\n",
    "svm_result_5kmer=(y_test,pred_prob)"
   ]
  },
  {
   "cell_type": "code",
   "execution_count": null,
   "metadata": {},
   "outputs": [],
   "source": []
  },
  {
   "cell_type": "markdown",
   "metadata": {},
   "source": [
    "# 搜索参数空间"
   ]
  },
  {
   "cell_type": "code",
   "execution_count": null,
   "metadata": {},
   "outputs": [],
   "source": [
    "start = time.time()\n",
    "#设定参数搜索空间\n",
    "param_grid=[{'kernel':['linear','rbf'],\n",
    "            'C':[1,10,100,300],\n",
    "             'gamma':[0.1,1,10,100,300]} ]\n",
    "\n",
    "model = GridSearchCV(SVC(),param_grid,cv=2,n_jobs = -1)\n",
    "model.fit(X_train,y_train)\n",
    "print(time.time()-start)\n",
    "print(model.best_params_,model.best_score_,model.best_estimator_)"
   ]
  },
  {
   "cell_type": "markdown",
   "metadata": {},
   "source": [
    "# 比较不同k-mer"
   ]
  },
  {
   "cell_type": "code",
   "execution_count": 110,
   "metadata": {},
   "outputs": [
    {
     "data": {
      "text/plain": [
       "{'accuracy': 0.841,\n",
       " 'precision': 0.839,\n",
       " 'recall': 0.847,\n",
       " 'f1': 0.843,\n",
       " 'auc': 0.917}"
      ]
     },
     "execution_count": 110,
     "metadata": {},
     "output_type": "execute_result"
    },
    {
     "data": {
      "image/png": "[encoded data removed]",
      "text/plain": [
       "<Figure size 432x288 with 1 Axes>"
      ]
     },
     "metadata": {
      "needs_background": "light"
     },
     "output_type": "display_data"
    }
   ],
   "source": [
    "def assess(y_true,y_prob,roc=True,pr=False,poly_name=None,line_name=None,kmer=' '):\n",
    "    '''\n",
    "    pass\n",
    "    '''\n",
    "    re={}\n",
    "    y_pred =(y_prob+0.5).astype(int)\n",
    "    \n",
    "    re['accuracy'] = round(metrics.accuracy_score  (y_true,y_pred),3)\n",
    "    re['precision'] = round(metrics.precision_score(y_true,y_pred),3)\n",
    "    re['recall'] = round(metrics.recall_score      (y_true,y_pred),3)\n",
    "    re['f1'] =  round(metrics.f1_score             (y_true,y_pred),3)\n",
    "    re['auc'] = round(metrics.roc_auc_score        (y_true, y_prob),3)\n",
    "    \n",
    "    \n",
    "    fpr,tpr,thresholds = metrics.roc_curve(y_true,y_prob)\n",
    "    plt.plot(fpr,tpr,label= 'SVM :'+kmer+str(re['auc']))\n",
    "    plt.title('ROC curve')\n",
    "    plt.xlabel('fpr')\n",
    "    plt.ylabel('tpr')\n",
    "    \n",
    "    #precision, recall, thresholds = metrics.precision_recall_curve(y_true,y_prob)\n",
    "    #plt.plot(precision,recall,label='precison_and_recall')\n",
    "    plt.legend()\n",
    "    \n",
    "    return re\n",
    "assess(svm_result_2kmer[0],svm_result_2kmer[1],kmer='3-kmer')\n",
    "assess(svm_result_3kmer[0],svm_result_3kmer[1],kmer='3-kmer')\n",
    "assess(svm_result_4kmer[0],svm_result_4kmer[1],kmer='4-kmer')\n",
    "assess(svm_result_5kmer[0],svm_result_5kmer[1],kmer='5-kmer')"
   ]
  },
  {
   "cell_type": "code",
   "execution_count": null,
   "metadata": {},
   "outputs": [],
   "source": []
  }
 ],
 "metadata": {
  "kernelspec": {
   "display_name": "Python 3",
   "language": "python",
   "name": "python3"
  },
  "language_info": {
   "codemirror_mode": {
    "name": "ipython",
    "version": 3
   },
   "file_extension": ".py",
   "mimetype": "text/x-python",
   "name": "python",
   "nbconvert_exporter": "python",
   "pygments_lexer": "ipython3",
   "version": "3.8.5"
  }
 },
 "nbformat": 4,
 "nbformat_minor": 4
}
