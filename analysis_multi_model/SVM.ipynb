{
 "cells": [
  {
   "cell_type": "markdown",
   "metadata": {},
   "source": [
    "# 1. SVM模型\n",
    "SVM模型优化参数与特征工程 <br />\n",
    "优化参数使用网格搜索法 <br />\n",
    "特征工程主要使用kmer <br />\n",
    "(1)首先测试未使用特征工程时模型的性能 <br />\n",
    "(2)接着测试 2-kmer模型的性能 <br />\n",
    "(3)然后测试 3-kmer模型的性能"
   ]
  },
  {
   "cell_type": "markdown",
   "metadata": {},
   "source": [
    "# (1)未使用特征工程时模型的性能\n",
    "这里不适用测试数据，只使用训练数据集与开发数据集"
   ]
  },
  {
   "cell_type": "code",
   "execution_count": 17,
   "metadata": {},
   "outputs": [],
   "source": [
    "import numpy as np\n",
    "import numpy as np\n",
    "from sklearn.model_selection import train_test_split\n",
    "from sklearn import metrics\n",
    "import matplotlib.pyplot as plt\n",
    "from sklearn.svm import SVC\n",
    "import time\n",
    "from sklearn.model_selection import GridSearchCV\n"
   ]
  },
  {
   "cell_type": "code",
   "execution_count": 10,
   "metadata": {},
   "outputs": [
    {
     "name": "stdout",
     "output_type": "stream",
     "text": [
      "X: (8844, 200) (2948, 200) (2948, 200)\n",
      "Y: (8844,) (2948,) (2948,)\n"
     ]
    }
   ],
   "source": [
    "#加载数据\n",
    "X_train = np.load(\"../temp_ann_data/X_train.npy\")/4\n",
    "X_dev = np.load(\"../temp_ann_data/X_dev.npy\")/4\n",
    "X_test = np.load(\"../temp_ann_data/X_test.npy\")/4\n",
    "\n",
    "y_train = np.load(\"../temp_ann_data/y_train.npy\")\n",
    "y_dev = np.load(\"../temp_ann_data/y_dev.npy\")\n",
    "y_test = np.load(\"../temp_ann_data/y_test.npy\")\n",
    "\n",
    "\n",
    "print('X:',X_train.shape,X_dev.shape,X_test.shape)\n",
    "print('Y:',y_train.shape,y_dev.shape,y_test.shape)"
   ]
  },
  {
   "cell_type": "markdown",
   "metadata": {},
   "source": [
    "随机选一个参数运行，看看效果"
   ]
  },
  {
   "cell_type": "code",
   "execution_count": 12,
   "metadata": {},
   "outputs": [
    {
     "name": "stdout",
     "output_type": "stream",
     "text": [
      "time: 185.84539532661438\n"
     ]
    }
   ],
   "source": [
    "start = time.time()\n",
    "clf = SVC(C=100,gamma=1,kernel='rbf',probability=True)\n",
    "clf.fit(X_train,y_train)\n",
    "pred_prob = clf.predict_proba(X_dev)[:,1]\n",
    "print('time:',time.time()-start)"
   ]
  },
  {
   "cell_type": "code",
   "execution_count": 8,
   "metadata": {},
   "outputs": [
    {
     "data": {
      "text/plain": [
       "{'accuracy': 0.503,\n",
       " 'precision': 0.503,\n",
       " 'recall': 0.999,\n",
       " 'f1': 0.669,\n",
       " 'auc': 0.499}"
      ]
     },
     "execution_count": 8,
     "metadata": {},
     "output_type": "execute_result"
    },
    {
     "data": {
      "image/png": "[encoded data removed]",
      "text/plain": [
       "<Figure size 432x288 with 1 Axes>"
      ]
     },
     "metadata": {
      "needs_background": "light"
     },
     "output_type": "display_data"
    }
   ],
   "source": [
    "#评价模型\n",
    "def assess(y_true,y_prob,roc=True,pr=False,poly_name=None,line_name=None):\n",
    "    '''\n",
    "    pass\n",
    "    '''\n",
    "    re={}\n",
    "    y_pred =(y_prob+0.5).astype(int)\n",
    "    \n",
    "    re['accuracy'] = round(metrics.accuracy_score  (y_true,y_pred),3)\n",
    "    re['precision'] = round(metrics.precision_score(y_true,y_pred),3)\n",
    "    re['recall'] = round(metrics.recall_score      (y_true,y_pred),3)\n",
    "    re['f1'] =  round(metrics.f1_score             (y_true,y_pred),3)\n",
    "    re['auc'] = round(metrics.roc_auc_score        (y_true, y_prob),3)\n",
    "    \n",
    "    \n",
    "    fpr,tpr,thresholds = metrics.roc_curve(y_true,y_prob)\n",
    "    plt.plot(fpr,tpr,label= 'ANN:'+str(re['auc']))\n",
    "    plt.title('ROC curve')\n",
    "    plt.xlabel('fpr')\n",
    "    plt.ylabel('tpr')\n",
    "    \n",
    "    #precision, recall, thresholds = metrics.precision_recall_curve(y_true,y_prob)\n",
    "    #plt.plot(precision,recall,label='precison_and_recall')\n",
    "    plt.legend()\n",
    "    \n",
    "    return re\n",
    "\n",
    "assess(y_dev,pred_prob)"
   ]
  },
  {
   "cell_type": "markdown",
   "metadata": {},
   "source": [
    "可以看出没有使用特征工程之前，SVM不能提取polyA的信息，<br />\n",
    "而这也是有SVM的原理所决定，SVM尝试把每个位置位置当做特征，当每个碱基的碱基可以是A、T、C、G，<br />\n",
    "无论正负样本,均不固定，这就导致SVM不能通过每个位置的碱基来产生一个超平面，来对样本进行划分 <br />\n",
    "所以直接放弃这种方式"
   ]
  },
  {
   "cell_type": "markdown",
   "metadata": {},
   "source": [
    "# (2)使用2-kmer的性能\n",
    "由ANN的例子，我们只使用kmer的统计作为特征，以下均相同"
   ]
  },
  {
   "cell_type": "code",
   "execution_count": 13,
   "metadata": {},
   "outputs": [],
   "source": [
    "def init_kmers_list(k):\n",
    "    base  = ['1','2','3','4']\n",
    "    kmers = ['1','2','3','4']\n",
    "    def str_mult(base1, base2):\n",
    "        return [j+i for j in base2 for i in base1]\n",
    "    \n",
    "    for i in range(k-1):\n",
    "        kmers = str_mult(base,kmers)\n",
    "    \n",
    "    return kmers\n",
    "\n",
    "def init_kmers_dict_count(k=2):\n",
    "    kmers_list = init_kmers_list(k)\n",
    "    kmers_dict_count={}\n",
    "    for kmer in kmers_list:\n",
    "        kmers_dict_count[kmer] = 0 \n",
    "    return kmers_dict_count\n",
    "\n",
    "def init_kmers_dict_num(k=2):\n",
    "    kmers_list = init_kmers_list(k)\n",
    "    kmers_dict={}\n",
    "    for idx,kmer in enumerate(kmers_list):\n",
    "        kmers_dict_num[kmer] = idx+1 \n",
    "    return kmers_dict_num        "
   ]
  },
  {
   "cell_type": "code",
   "execution_count": 14,
   "metadata": {},
   "outputs": [
    {
     "name": "stdout",
     "output_type": "stream",
     "text": [
      "X: (8844, 16) (2948, 16) (2948, 16)\n",
      "Y: (8844,) (2948,) (2948,)\n"
     ]
    }
   ],
   "source": [
    "#使用2kmer\n",
    "#第二遍运行报错，只需要运行一次，原始数据已经被修改\n",
    "kmers_dict_count = init_kmers_dict_count(2)\n",
    "def convert_to_kmers_count(x,k=2):\n",
    "    count = kmers_dict_count.copy()\n",
    "    seq = \"\"\n",
    "    for i in x:        \n",
    "        seq += str(i)\n",
    "\n",
    "    for i in range(len(x)-k+1):\n",
    "        count[seq[i:i+k]] += 1\n",
    "    return np.array([value for key,value in count.items()])\n",
    "\n",
    "\n",
    "# 加载数据\n",
    "X_train = np.load(\"../temp_ann_data/X_train.npy\")\n",
    "X_dev = np.load(\"../temp_ann_data/X_dev.npy\")\n",
    "X_test = np.load(\"../temp_ann_data/X_test.npy\")\n",
    "\n",
    "y_train = np.load(\"../temp_ann_data/y_train.npy\")\n",
    "y_dev = np.load(\"../temp_ann_data/y_dev.npy\")\n",
    "y_test = np.load(\"../temp_ann_data/y_test.npy\")\n",
    "\n",
    "#转化数据\n",
    "X_train = np.vstack([convert_to_kmers_count(a) for a in X_train])/16\n",
    "X_dev = np.vstack([convert_to_kmers_count(a) for a in X_dev])/16\n",
    "X_test = np.vstack([convert_to_kmers_count(a) for a in X_test])/16\n",
    "\n",
    "print('X:',X_train.shape,X_dev.shape,X_test.shape)\n",
    "print('Y:',y_train.shape,y_dev.shape,y_test.shape)"
   ]
  },
  {
   "cell_type": "markdown",
   "metadata": {},
   "source": [
    "与前面一样，先选一个较合适的参数，看看效果"
   ]
  },
  {
   "cell_type": "code",
   "execution_count": 15,
   "metadata": {},
   "outputs": [
    {
     "name": "stdout",
     "output_type": "stream",
     "text": [
      "time: 60.845062255859375\n"
     ]
    }
   ],
   "source": [
    "start = time.time()\n",
    "clf = SVC(C=100,gamma=1,kernel='rbf',probability=True)\n",
    "clf.fit(X_train,y_train)\n",
    "pred_prob = clf.predict_proba(X_dev)[:,1]\n",
    "print('time:',time.time()-start)"
   ]
  },
  {
   "cell_type": "code",
   "execution_count": 16,
   "metadata": {},
   "outputs": [
    {
     "data": {
      "text/plain": [
       "{'accuracy': 0.727,\n",
       " 'precision': 0.73,\n",
       " 'recall': 0.724,\n",
       " 'f1': 0.727,\n",
       " 'auc': 0.792}"
      ]
     },
     "execution_count": 16,
     "metadata": {},
     "output_type": "execute_result"
    },
    {
     "data": {
      "image/png": "[encoded data removed]",
      "text/plain": [
       "<Figure size 432x288 with 1 Axes>"
      ]
     },
     "metadata": {
      "needs_background": "light"
     },
     "output_type": "display_data"
    }
   ],
   "source": [
    "#评价模型\n",
    "assess(y_dev,pred_prob)"
   ]
  },
  {
   "cell_type": "markdown",
   "metadata": {},
   "source": [
    "可以看出当使用kmer时，SVM能够提取信息，对有限的kmer统计信息产生一个超平面<br />\n",
    "进一步，使用网格搜索法，采用2折交叉验证寻找合适的参数"
   ]
  },
  {
   "cell_type": "code",
   "execution_count": 18,
   "metadata": {},
   "outputs": [
    {
     "name": "stdout",
     "output_type": "stream",
     "text": [
      "59.12692475318909\n"
     ]
    }
   ],
   "source": [
    "start = time.time()\n",
    "#设定参数搜索空间\n",
    "param_grid=[{'kernel':['linear','rbf'],\n",
    "            'C':[1,10,100,300],\n",
    "             'gamma':[0.1,1,10,100,300]} ]\n",
    "\n",
    "model = GridSearchCV(SVC(),param_grid,cv=2,n_jobs = -1)\n",
    "model.fit(X_train,y_train)\n",
    "print(time.time()-start)"
   ]
  },
  {
   "cell_type": "code",
   "execution_count": 21,
   "metadata": {},
   "outputs": [
    {
     "name": "stdout",
     "output_type": "stream",
     "text": [
      "{'C': 300, 'gamma': 0.1, 'kernel': 'rbf'} 0.7530529172320217 SVC(C=300, gamma=0.1)\n"
     ]
    }
   ],
   "source": [
    "print(model.best_params_,model.best_score_,model.best_estimator_)"
   ]
  },
  {
   "cell_type": "code",
   "execution_count": 22,
   "metadata": {},
   "outputs": [
    {
     "name": "stdout",
     "output_type": "stream",
     "text": [
      "time: 36.27003788948059\n"
     ]
    }
   ],
   "source": [
    "#使用新的参数重新训练\n",
    "start = time.time()\n",
    "clf = SVC(C=300,gamma=0.1,kernel='rbf',probability=True)\n",
    "clf.fit(X_train,y_train)\n",
    "pred_prob = clf.predict_proba(X_dev)[:,1]\n",
    "print('time:',time.time()-start)"
   ]
  },
  {
   "cell_type": "code",
   "execution_count": 24,
   "metadata": {},
   "outputs": [
    {
     "data": {
      "text/plain": [
       "{'accuracy': 0.771,\n",
       " 'precision': 0.779,\n",
       " 'recall': 0.761,\n",
       " 'f1': 0.77,\n",
       " 'auc': 0.851}"
      ]
     },
     "execution_count": 24,
     "metadata": {},
     "output_type": "execute_result"
    },
    {
     "data": {
      "image/png": "[encoded data removed]",
      "text/plain": [
       "<Figure size 432x288 with 1 Axes>"
      ]
     },
     "metadata": {
      "needs_background": "light"
     },
     "output_type": "display_data"
    }
   ],
   "source": [
    "#评价模型\n",
    "assess(y_dev,pred_prob)"
   ]
  },
  {
   "cell_type": "markdown",
   "metadata": {},
   "source": [
    "使用参数搜索后，模型性能得到一些提升"
   ]
  },
  {
   "cell_type": "markdown",
   "metadata": {},
   "source": [
    "# (3)使用3-mer的性能"
   ]
  },
  {
   "cell_type": "code",
   "execution_count": 28,
   "metadata": {},
   "outputs": [
    {
     "name": "stdout",
     "output_type": "stream",
     "text": [
      "X: (8844, 64) (2948, 64) (2948, 64)\n",
      "Y: (8844,) (2948,) (2948,)\n"
     ]
    }
   ],
   "source": [
    "#使用2kmer\n",
    "#第二遍运行报错，只需要运行一次，原始数据已经被修改\n",
    "kmers_dict_count = init_kmers_dict_count(3)\n",
    "def convert_to_kmers_count(x,k=3):\n",
    "    count = kmers_dict_count.copy()\n",
    "    seq = \"\"\n",
    "    for i in x:        \n",
    "        seq += str(i)\n",
    "\n",
    "    for i in range(len(x)-k+1):\n",
    "        count[seq[i:i+k]] += 1\n",
    "    return np.array([value for key,value in count.items()])\n",
    "\n",
    "\n",
    "# 加载数据\n",
    "X_train = np.load(\"../temp_ann_data/X_train.npy\")\n",
    "X_dev = np.load(\"../temp_ann_data/X_dev.npy\")\n",
    "X_test = np.load(\"../temp_ann_data/X_test.npy\")\n",
    "\n",
    "y_train = np.load(\"../temp_ann_data/y_train.npy\")\n",
    "y_dev = np.load(\"../temp_ann_data/y_dev.npy\")\n",
    "y_test = np.load(\"../temp_ann_data/y_test.npy\")\n",
    "\n",
    "#转化数据,使得数据均在0到1之间\n",
    "X_train = np.vstack([convert_to_kmers_count(a) for a in X_train])/32\n",
    "X_dev = np.vstack([convert_to_kmers_count(a) for a in X_dev])/32\n",
    "X_test = np.vstack([convert_to_kmers_count(a) for a in X_test])/32\n",
    "\n",
    "print('X:',X_train.shape,X_dev.shape,X_test.shape)\n",
    "print('Y:',y_train.shape,y_dev.shape,y_test.shape)"
   ]
  },
  {
   "cell_type": "markdown",
   "metadata": {},
   "source": [
    "选一个较合适的参数看看效果"
   ]
  },
  {
   "cell_type": "code",
   "execution_count": 34,
   "metadata": {},
   "outputs": [
    {
     "name": "stdout",
     "output_type": "stream",
     "text": [
      "time: 65.15610837936401\n"
     ]
    }
   ],
   "source": [
    "from sklearn.svm import SVC\n",
    "import time\n",
    "start = time.time()\n",
    "clf = SVC(C=100,gamma=1,kernel='rbf',probability=True)\n",
    "clf.fit(X_train,y_train)\n",
    "pred_prob = clf.predict_proba(X_dev)[:,1]\n",
    "print('time:',time.time()-start)"
   ]
  },
  {
   "cell_type": "code",
   "execution_count": 35,
   "metadata": {},
   "outputs": [
    {
     "data": {
      "text/plain": [
       "{'accuracy': 0.793,\n",
       " 'precision': 0.801,\n",
       " 'recall': 0.783,\n",
       " 'f1': 0.792,\n",
       " 'auc': 0.871}"
      ]
     },
     "execution_count": 35,
     "metadata": {},
     "output_type": "execute_result"
    },
    {
     "data": {
      "image/png": "[encoded data removed]",
      "text/plain": [
       "<Figure size 432x288 with 1 Axes>"
      ]
     },
     "metadata": {
      "needs_background": "light"
     },
     "output_type": "display_data"
    }
   ],
   "source": [
    "#评价模型\n",
    "assess(y_dev,pred_prob)"
   ]
  },
  {
   "cell_type": "markdown",
   "metadata": {},
   "source": [
    "当使用3-kmer时模型性能又得到一些提升<br />\n",
    "使用网格搜索，寻找合适参数"
   ]
  },
  {
   "cell_type": "code",
   "execution_count": 36,
   "metadata": {},
   "outputs": [
    {
     "name": "stdout",
     "output_type": "stream",
     "text": [
      "269.34149837493896\n"
     ]
    }
   ],
   "source": [
    "param_grid=[{'kernel':['linear','rbf'],\n",
    "            'C':[1,10,100,300],\n",
    "             'gamma':[0.1,1,10,100,300]} ]\n",
    "\n",
    "model = GridSearchCV(SVC(),param_grid,cv=2,n_jobs = -1)\n",
    "model.fit(X_train,y_train)\n",
    "print(time.time()-start)"
   ]
  },
  {
   "cell_type": "code",
   "execution_count": 37,
   "metadata": {},
   "outputs": [
    {
     "name": "stdout",
     "output_type": "stream",
     "text": [
      "{'C': 300, 'gamma': 0.1, 'kernel': 'rbf'} 0.7908186341022161 SVC(C=300, gamma=0.1)\n"
     ]
    }
   ],
   "source": [
    "print(model.best_params_,model.best_score_,model.best_estimator_)"
   ]
  },
  {
   "cell_type": "code",
   "execution_count": 38,
   "metadata": {},
   "outputs": [
    {
     "name": "stdout",
     "output_type": "stream",
     "text": [
      "time: 41.46234631538391\n"
     ]
    }
   ],
   "source": [
    "#使用新的参数重新训练\n",
    "start = time.time()\n",
    "clf = SVC(C=300,gamma=0.1,kernel='rbf',probability=True)\n",
    "clf.fit(X_train,y_train)\n",
    "pred_prob = clf.predict_proba(X_dev)[:,1]\n",
    "print('time:',time.time()-start)"
   ]
  },
  {
   "cell_type": "code",
   "execution_count": 39,
   "metadata": {},
   "outputs": [
    {
     "data": {
      "text/plain": [
       "{'accuracy': 0.807,\n",
       " 'precision': 0.809,\n",
       " 'recall': 0.806,\n",
       " 'f1': 0.807,\n",
       " 'auc': 0.887}"
      ]
     },
     "execution_count": 39,
     "metadata": {},
     "output_type": "execute_result"
    },
    {
     "data": {
      "image/png": "[encoded data removed]",
      "text/plain": [
       "<Figure size 432x288 with 1 Axes>"
      ]
     },
     "metadata": {
      "needs_background": "light"
     },
     "output_type": "display_data"
    }
   ],
   "source": [
    "#评价模型\n",
    "assess(y_dev,pred_prob)"
   ]
  },
  {
   "cell_type": "code",
   "execution_count": 40,
   "metadata": {},
   "outputs": [
    {
     "data": {
      "text/plain": [
       "{'accuracy': 0.798,\n",
       " 'precision': 0.798,\n",
       " 'recall': 0.803,\n",
       " 'f1': 0.8,\n",
       " 'auc': 0.884}"
      ]
     },
     "execution_count": 40,
     "metadata": {},
     "output_type": "execute_result"
    },
    {
     "data": {
      "image/png": "[encoded data removed]",
      "text/plain": [
       "<Figure size 432x288 with 1 Axes>"
      ]
     },
     "metadata": {
      "needs_background": "light"
     },
     "output_type": "display_data"
    }
   ],
   "source": [
    "#评价模型\n",
    "pred_prob = clf.predict_proba(X_test)[:,1]\n",
    "assess(y_test,pred_prob)"
   ]
  },
  {
   "cell_type": "markdown",
   "metadata": {},
   "source": [
    "# 保存SVM模型的结果"
   ]
  },
  {
   "cell_type": "code",
   "execution_count": 41,
   "metadata": {},
   "outputs": [],
   "source": [
    "np.save(\"../save_pred/SVM_kmer_pred_proba.npy\",pred_prob)\n",
    "np.save(\"../save_pred/SVM_kmer_pred_y.npy\",y_test)"
   ]
  },
  {
   "cell_type": "markdown",
   "metadata": {},
   "source": [
    "# (4)使用5-kmer"
   ]
  },
  {
   "cell_type": "code",
   "execution_count": 44,
   "metadata": {},
   "outputs": [
    {
     "name": "stdout",
     "output_type": "stream",
     "text": [
      "X: (8844, 256) (2948, 256) (2948, 256)\n",
      "Y: (8844,) (2948,) (2948,)\n"
     ]
    }
   ],
   "source": [
    "#使用2kmer\n",
    "#第二遍运行报错，只需要运行一次，原始数据已经被修改\n",
    "kmers_dict_count = init_kmers_dict_count(4)\n",
    "def convert_to_kmers_count(x,k=4):\n",
    "    count = kmers_dict_count.copy()\n",
    "    seq = \"\"\n",
    "    for i in x:        \n",
    "        seq += str(i)\n",
    "\n",
    "    for i in range(len(x)-k+1):\n",
    "        count[seq[i:i+k]] += 1\n",
    "    return np.array([value for key,value in count.items()])\n",
    "\n",
    "\n",
    "# 加载数据\n",
    "X_train = np.load(\"../temp_ann_data/X_train.npy\")\n",
    "X_dev = np.load(\"../temp_ann_data/X_dev.npy\")\n",
    "X_test = np.load(\"../temp_ann_data/X_test.npy\")\n",
    "\n",
    "y_train = np.load(\"../temp_ann_data/y_train.npy\")\n",
    "y_dev = np.load(\"../temp_ann_data/y_dev.npy\")\n",
    "y_test = np.load(\"../temp_ann_data/y_test.npy\")\n",
    "\n",
    "#转化数据,使得数据均在0到1之间\n",
    "X_train = np.vstack([convert_to_kmers_count(a) for a in X_train])/32\n",
    "X_dev = np.vstack([convert_to_kmers_count(a) for a in X_dev])/32\n",
    "X_test = np.vstack([convert_to_kmers_count(a) for a in X_test])/32\n",
    "\n",
    "print('X:',X_train.shape,X_dev.shape,X_test.shape)\n",
    "print('Y:',y_train.shape,y_dev.shape,y_test.shape)"
   ]
  },
  {
   "cell_type": "code",
   "execution_count": 45,
   "metadata": {},
   "outputs": [
    {
     "name": "stdout",
     "output_type": "stream",
     "text": [
      "time: 207.12180304527283\n"
     ]
    },
    {
     "data": {
      "text/plain": [
       "{'accuracy': 0.794,\n",
       " 'precision': 0.792,\n",
       " 'recall': 0.803,\n",
       " 'f1': 0.797,\n",
       " 'auc': 0.871}"
      ]
     },
     "execution_count": 45,
     "metadata": {},
     "output_type": "execute_result"
    },
    {
     "data": {
      "image/png": "[encoded data removed]",
      "text/plain": [
       "<Figure size 432x288 with 1 Axes>"
      ]
     },
     "metadata": {
      "needs_background": "light"
     },
     "output_type": "display_data"
    }
   ],
   "source": [
    "from sklearn.svm import SVC\n",
    "import time\n",
    "start = time.time()\n",
    "clf = SVC(C=100,gamma=1,kernel='rbf',probability=True)\n",
    "clf.fit(X_train,y_train)\n",
    "pred_prob = clf.predict_proba(X_dev)[:,1]\n",
    "print('time:',time.time()-start)\n",
    "\n",
    "#评价模型\n",
    "pred_prob = clf.predict_proba(X_test)[:,1]\n",
    "assess(y_test,pred_prob)"
   ]
  }
 ],
 "metadata": {
  "kernelspec": {
   "display_name": "Python 3",
   "language": "python",
   "name": "python3"
  },
  "language_info": {
   "codemirror_mode": {
    "name": "ipython",
    "version": 3
   },
   "file_extension": ".py",
   "mimetype": "text/x-python",
   "name": "python",
   "nbconvert_exporter": "python",
   "pygments_lexer": "ipython3",
   "version": "3.8.5"
  }
 },
 "nbformat": 4,
 "nbformat_minor": 4
}
